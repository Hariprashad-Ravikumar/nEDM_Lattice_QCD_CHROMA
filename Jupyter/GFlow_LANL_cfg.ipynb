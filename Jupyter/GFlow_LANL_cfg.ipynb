{
 "cells": [
  {
   "cell_type": "code",
   "execution_count": 2,
   "id": "529fb2d8-1b67-4e6f-a7e0-5c1caed87d28",
   "metadata": {
    "tags": []
   },
   "outputs": [
    {
     "name": "stdout",
     "output_type": "stream",
     "text": [
      "cl21_48_128_b6p3_m0p2390_m0p2050_cfg_12000.lime\n",
      "\n",
      "plaquette action with beta 1\n",
      "\n",
      "\n",
      "flow time =  0  --->       Q =  -8.940070224316951\n",
      "flow time =  0.1  --->       Q =  2.655220202852686\n",
      "flow time =  0.41  --->       Q =  7.403953458689262\n",
      "flow time =  0.92  --->       Q =  -18.368209257198092\n",
      "flow time =  1.64  --->       Q =  45.76655511217589\n",
      "flow time =  2.56  --->       Q =  63.27170315248434\n",
      "flow time =  3.68  --->       Q =  67.5430820842306\n",
      "flow time =  5.01  --->       Q =  17.000040687765654\n",
      "flow time =  6.54  --->       Q =  -54.20248110771668\n",
      "flow time =  8.28  --->       Q =  47.4655853506443\n",
      "flow time =  10.22  --->       Q =  24.314523140052195\n"
     ]
    }
   ],
   "source": [
    "import h5py\n",
    "import numpy as np\n",
    "import matplotlib.pyplot as plt\n",
    "from tqdm import tqdm\n",
    "\n",
    "\n",
    "flow_time = [0, 0.10, 0.41, 0.92, 1.64, 2.56, 3.68, 5.01, 6.54, 8.28, 10.22]\n",
    "#flow_time = [0]\n",
    "\n",
    "def list_observ(observable, ft):\n",
    "    file_path = f\"/pscratch/sd/h/hari_8/nEDM_project_LANL/save_GF_h5/save_EQ_GradientFlow_lanl_cfg_12000_beta_6d3_tau_a_units.h5\"\n",
    "    h5_file = h5py.File(file_path, \"r\")\n",
    "    path_to_observable_cfgb = f\"/cfg_12000/{observable}/flow_time_{ft}_a\"\n",
    "    observable_cfgb = h5_file[path_to_observable_cfgb][()]\n",
    "    print(\"flow time = \", ft, \"--->       Q = \",observable_cfgb)\n",
    "    return \n",
    "\n",
    "def list_observsqrt8t(observable, ft):\n",
    "    file_path = f\"/pscratch/sd/h/hari_8/nEDM_project_LANL/save_GF_h5/save_EQ_GradientFlow_lanl_cfg_12000_beta_6d3_tau_sqrt8t.h5\"\n",
    "    h5_file = h5py.File(file_path, \"r\")\n",
    "    path_to_observable_cfgb = f\"/cfg_12000/{observable}/flow_time_{ft}_a\"\n",
    "    observable_cfgb = h5_file[path_to_observable_cfgb][()]\n",
    "    print(\"flow time = Sqrt(\", ft, \"*8) --->       Q = \",observable_cfgb)\n",
    "    return\n",
    "\n",
    "def list_observsqrtt2times8(observable, ft):\n",
    "    file_path = f\"/pscratch/sd/h/hari_8/nEDM_project_LANL/save_GF_h5/save_EQ_GradientFlow_lanl_cfg_12000_beta_1.h5\"\n",
    "    h5_file = h5py.File(file_path, \"r\")\n",
    "    path_to_observable_cfgb = f\"/cfg_12000/{observable}/flow_time_{ft}_a\"\n",
    "    observable_cfgb = h5_file[path_to_observable_cfgb][()]\n",
    "    print(\"flow time = \", ft, \" --->       Q = \",observable_cfgb)\n",
    "    return\n",
    "    \n",
    "print(\"cl21_48_128_b6p3_m0p2390_m0p2050_cfg_12000.lime\\n\")\n",
    "print(\"plaquette action with beta 1\\n\")\n",
    "\n",
    "    \n",
    "\n",
    "print(\"\")\n",
    "for ft in flow_time:\n",
    "    list_observsqrtt2times8(\"improvedQ\", ft)\n",
    "    "
   ]
  },
  {
   "cell_type": "code",
   "execution_count": 6,
   "id": "18136798-681e-45b9-8033-bc3427a002cf",
   "metadata": {},
   "outputs": [
    {
     "name": "stdout",
     "output_type": "stream",
     "text": [
      "[0.0, 0.0012500000000000002, 0.021012499999999996, 0.1058, 0.33619999999999994, 0.8192, 1.6928, 3.1375124999999997, 5.34645, 8.569799999999999, 13.05605]\n",
      "[0, 0.1, 0.41, 0.92, 1.64, 2.56, 3.68, 5.01, 6.54, 8.28, 10.22]\n"
     ]
    }
   ],
   "source": [
    "squared_divided = [(t**2) / 8 for t in flow_time]\n",
    "\n",
    "# Print the result\n",
    "print(squared_divided)\n",
    "print(flow_time)"
   ]
  },
  {
   "cell_type": "code",
   "execution_count": 11,
   "id": "74c3872a-b746-4876-8723-eadf11e1d325",
   "metadata": {},
   "outputs": [
    {
     "name": "stdout",
     "output_type": "stream",
     "text": [
      "[0.0, 0.01, 0.02, 0.03, 0.04, 0.05, 0.06, 0.07, 0.08, 0.09, 0.1, 0.11, 0.12, 0.13, 0.14, 0.15, 0.16, 0.17, 0.18, 0.19, 0.2, 0.21, 0.22, 0.23, 0.24, 0.25, 0.26, 0.27, 0.28, 0.29, 0.3, 0.31, 0.32, 0.33, 0.34, 0.35000000000000003, 0.36, 0.37, 0.38, 0.39, 0.4, 0.41000000000000003, 0.42, 0.43, 0.44, 0.45, 0.46, 0.47000000000000003, 0.48, 0.49, 0.5, 0.51, 0.52, 0.53, 0.54, 0.55, 0.56, 0.5700000000000001, 0.58, 0.59, 0.6, 0.61, 0.62, 0.63, 0.64, 0.65, 0.66, 0.67, 0.68, 0.6900000000000001, 0.7000000000000001, 0.71, 0.72, 0.73, 0.74, 0.75, 0.76, 0.77, 0.78, 0.79, 0.8, 0.81, 0.8200000000000001, 0.8300000000000001, 0.84, 0.85, 0.86, 0.87, 0.88, 0.89, 0.9, 0.91, 0.92, 0.93, 0.9400000000000001, 0.9500000000000001, 0.96, 0.97, 0.98, 0.99, 1.0, 1.01, 1.02, 1.03, 1.04, 1.05, 1.06, 1.07, 1.08, 1.09, 1.1, 1.11, 1.12, 1.1300000000000001, 1.1400000000000001, 1.1500000000000001, 1.16, 1.17, 1.18, 1.19, 1.2, 1.21, 1.22, 1.23, 1.24, 1.25, 1.26, 1.27, 1.28, 1.29, 1.3, 1.31, 1.32, 1.33, 1.34, 1.35, 1.36, 1.37, 1.3800000000000001, 1.3900000000000001, 1.4000000000000001, 1.41, 1.42, 1.43, 1.44, 1.45, 1.46, 1.47, 1.48, 1.49, 1.5, 1.51, 1.52, 1.53, 1.54, 1.55, 1.56, 1.57, 1.58, 1.59, 1.6, 1.61, 1.62, 1.6300000000000001, 1.6400000000000001, 1.6500000000000001, 1.6600000000000001, 1.67, 1.68, 1.69, 1.7, 1.71, 1.72, 1.73, 1.74, 1.75, 1.76, 1.77, 1.78, 1.79, 1.8, 1.81, 1.82, 1.83, 1.84, 1.85, 1.86, 1.87, 1.8800000000000001, 1.8900000000000001, 1.9000000000000001, 1.9100000000000001, 1.92, 1.93, 1.94, 1.95, 1.96, 1.97, 1.98, 1.99, 2.0, 2.0100000000000002, 2.02, 2.0300000000000002, 2.04, 2.05, 2.06, 2.07, 2.08, 2.09, 2.1, 2.11, 2.12, 2.13, 2.14, 2.15, 2.16, 2.17, 2.18, 2.19, 2.2, 2.21, 2.22, 2.23, 2.24, 2.25, 2.2600000000000002, 2.27, 2.2800000000000002, 2.29, 2.3000000000000003, 2.31, 2.32, 2.33, 2.34, 2.35, 2.36, 2.37, 2.38, 2.39, 2.4, 2.41, 2.42, 2.43, 2.44, 2.45, 2.46, 2.47, 2.48, 2.49, 2.5, 2.5100000000000002, 2.52, 2.5300000000000002, 2.54, 2.5500000000000003, 2.56, 2.57, 2.58, 2.59, 2.6, 2.61, 2.62, 2.63, 2.64, 2.65, 2.66, 2.67, 2.68, 2.69, 2.7, 2.71, 2.72, 2.73, 2.74, 2.75, 2.7600000000000002, 2.77, 2.7800000000000002, 2.79, 2.8000000000000003, 2.81, 2.82, 2.83, 2.84, 2.85, 2.86, 2.87, 2.88, 2.89, 2.9, 2.91, 2.92, 2.93, 2.94, 2.95, 2.96, 2.97, 2.98, 2.99, 3.0, 3.0100000000000002, 3.02, 3.0300000000000002, 3.04, 3.0500000000000003, 3.06, 3.0700000000000003, 3.08, 3.09, 3.1, 3.11, 3.12, 3.13, 3.14, 3.15, 3.16, 3.17, 3.18, 3.19, 3.2, 3.21, 3.22, 3.23, 3.24, 3.25, 3.2600000000000002, 3.27, 3.2800000000000002, 3.29, 3.3000000000000003, 3.31, 3.3200000000000003, 3.33, 3.34, 3.35, 3.36, 3.37, 3.38, 3.39, 3.4, 3.41, 3.42, 3.43, 3.44, 3.45, 3.46, 3.47, 3.48, 3.49, 3.5, 3.5100000000000002, 3.52, 3.5300000000000002, 3.54, 3.5500000000000003, 3.56, 3.5700000000000003, 3.58, 3.59, 3.6, 3.61, 3.62, 3.63, 3.64, 3.65, 3.66, 3.67, 3.68, 3.69, 3.7, 3.71, 3.72, 3.73, 3.74, 3.75, 3.7600000000000002, 3.77, 3.7800000000000002, 3.79, 3.8000000000000003, 3.81, 3.8200000000000003, 3.83, 3.84, 3.85, 3.86, 3.87, 3.88, 3.89, 3.9, 3.91, 3.92, 3.93, 3.94, 3.95, 3.96, 3.97, 3.98, 3.99, 4.0, 4.01, 4.0200000000000005, 4.03, 4.04, 4.05, 4.0600000000000005, 4.07, 4.08, 4.09, 4.1, 4.11, 4.12, 4.13, 4.14, 4.15, 4.16, 4.17, 4.18, 4.19, 4.2, 4.21, 4.22, 4.23, 4.24, 4.25, 4.26, 4.2700000000000005, 4.28, 4.29, 4.3, 4.3100000000000005, 4.32, 4.33, 4.34, 4.3500000000000005, 4.36, 4.37, 4.38, 4.39, 4.4, 4.41, 4.42, 4.43, 4.44, 4.45, 4.46, 4.47, 4.48, 4.49, 4.5, 4.51, 4.5200000000000005, 4.53, 4.54, 4.55, 4.5600000000000005, 4.57, 4.58, 4.59, 4.6000000000000005, 4.61, 4.62, 4.63, 4.64, 4.65, 4.66, 4.67, 4.68, 4.69, 4.7, 4.71, 4.72, 4.73, 4.74, 4.75, 4.76, 4.7700000000000005, 4.78, 4.79, 4.8, 4.8100000000000005, 4.82, 4.83, 4.84, 4.8500000000000005, 4.86, 4.87, 4.88, 4.89, 4.9, 4.91, 4.92, 4.93, 4.94, 4.95, 4.96, 4.97, 4.98, 4.99, 5.0, 5.01, 5.0200000000000005, 5.03, 5.04, 5.05, 5.0600000000000005, 5.07, 5.08, 5.09, 5.1000000000000005, 5.11, 5.12, 5.13, 5.14, 5.15, 5.16, 5.17, 5.18, 5.19, 5.2, 5.21, 5.22, 5.23, 5.24, 5.25, 5.26, 5.2700000000000005, 5.28, 5.29, 5.3, 5.3100000000000005, 5.32, 5.33, 5.34, 5.3500000000000005, 5.36, 5.37, 5.38, 5.39, 5.4, 5.41, 5.42, 5.43, 5.44, 5.45, 5.46, 5.47, 5.48, 5.49, 5.5, 5.51, 5.5200000000000005, 5.53, 5.54, 5.55, 5.5600000000000005, 5.57, 5.58, 5.59, 5.6000000000000005, 5.61, 5.62, 5.63, 5.64, 5.65, 5.66, 5.67, 5.68, 5.69, 5.7, 5.71, 5.72, 5.73, 5.74, 5.75, 5.76, 5.7700000000000005, 5.78, 5.79, 5.8, 5.8100000000000005, 5.82, 5.83, 5.84, 5.8500000000000005, 5.86, 5.87, 5.88, 5.89, 5.9, 5.91, 5.92, 5.93, 5.94, 5.95, 5.96, 5.97, 5.98, 5.99, 6.0, 6.01, 6.0200000000000005, 6.03, 6.04, 6.05, 6.0600000000000005, 6.07, 6.08, 6.09, 6.1000000000000005, 6.11, 6.12, 6.13, 6.140000000000001, 6.15, 6.16, 6.17, 6.18, 6.19, 6.2, 6.21, 6.22, 6.23, 6.24, 6.25, 6.26, 6.2700000000000005, 6.28, 6.29, 6.3, 6.3100000000000005, 6.32, 6.33, 6.34, 6.3500000000000005, 6.36, 6.37, 6.38, 6.390000000000001, 6.4, 6.41, 6.42, 6.43, 6.44, 6.45, 6.46, 6.47, 6.48, 6.49, 6.5, 6.51, 6.5200000000000005, 6.53, 6.54, 6.55, 6.5600000000000005, 6.57, 6.58, 6.59, 6.6000000000000005, 6.61, 6.62, 6.63, 6.640000000000001, 6.65, 6.66, 6.67, 6.68, 6.69, 6.7, 6.71, 6.72, 6.73, 6.74, 6.75, 6.76, 6.7700000000000005, 6.78, 6.79, 6.8, 6.8100000000000005, 6.82, 6.83, 6.84, 6.8500000000000005, 6.86, 6.87, 6.88, 6.890000000000001, 6.9, 6.91, 6.92, 6.93, 6.94, 6.95, 6.96, 6.97, 6.98, 6.99, 7.0, 7.01, 7.0200000000000005, 7.03, 7.04, 7.05, 7.0600000000000005, 7.07, 7.08, 7.09, 7.1000000000000005, 7.11, 7.12, 7.13, 7.140000000000001, 7.15, 7.16, 7.17, 7.18, 7.19, 7.2, 7.21, 7.22, 7.23, 7.24, 7.25, 7.26, 7.2700000000000005, 7.28, 7.29, 7.3, 7.3100000000000005, 7.32, 7.33, 7.34, 7.3500000000000005, 7.36, 7.37, 7.38, 7.390000000000001, 7.4, 7.41, 7.42, 7.43, 7.44, 7.45, 7.46, 7.47, 7.48, 7.49, 7.5, 7.51, 7.5200000000000005, 7.53, 7.54, 7.55, 7.5600000000000005, 7.57, 7.58, 7.59, 7.6000000000000005, 7.61, 7.62, 7.63, 7.640000000000001, 7.65, 7.66, 7.67, 7.68, 7.69, 7.7, 7.71, 7.72, 7.73, 7.74, 7.75, 7.76, 7.7700000000000005, 7.78, 7.79, 7.8, 7.8100000000000005, 7.82, 7.83, 7.84, 7.8500000000000005, 7.86, 7.87, 7.88, 7.890000000000001, 7.9, 7.91, 7.92, 7.930000000000001, 7.94, 7.95, 7.96, 7.97, 7.98, 7.99, 8.0, 8.01, 8.02, 8.03, 8.040000000000001, 8.05, 8.06, 8.07, 8.08, 8.09, 8.1, 8.11, 8.120000000000001, 8.13, 8.14, 8.15, 8.16, 8.17, 8.18, 8.19, 8.2, 8.21, 8.22, 8.23, 8.24, 8.25, 8.26, 8.27, 8.28, 8.290000000000001, 8.3, 8.31, 8.32, 8.33, 8.34, 8.35, 8.36, 8.370000000000001, 8.38, 8.39, 8.4, 8.41, 8.42, 8.43, 8.44, 8.45, 8.46, 8.47, 8.48, 8.49, 8.5, 8.51, 8.52, 8.53, 8.540000000000001, 8.55, 8.56, 8.57, 8.58, 8.59, 8.6, 8.61, 8.620000000000001, 8.63, 8.64, 8.65, 8.66, 8.67, 8.68, 8.69, 8.700000000000001, 8.71, 8.72, 8.73, 8.74, 8.75, 8.76, 8.77, 8.78, 8.790000000000001, 8.8, 8.81, 8.82, 8.83, 8.84, 8.85, 8.86, 8.870000000000001, 8.88, 8.89, 8.9, 8.91, 8.92, 8.93, 8.94, 8.950000000000001, 8.96, 8.97, 8.98, 8.99, 9.0, 9.01, 9.02, 9.03, 9.040000000000001, 9.05, 9.06, 9.07, 9.08, 9.09, 9.1, 9.11, 9.120000000000001, 9.13, 9.14, 9.15, 9.16, 9.17, 9.18, 9.19, 9.200000000000001, 9.21, 9.22, 9.23, 9.24, 9.25, 9.26, 9.27, 9.28, 9.290000000000001, 9.3, 9.31, 9.32, 9.33, 9.34, 9.35, 9.36, 9.370000000000001, 9.38, 9.39, 9.4, 9.41, 9.42, 9.43, 9.44, 9.450000000000001, 9.46, 9.47, 9.48, 9.49, 9.5, 9.51, 9.52, 9.53, 9.540000000000001, 9.55, 9.56, 9.57, 9.58, 9.59, 9.6, 9.61, 9.620000000000001, 9.63, 9.64, 9.65, 9.66, 9.67, 9.68, 9.69, 9.700000000000001, 9.71, 9.72, 9.73, 9.74, 9.75, 9.76, 9.77, 9.78, 9.790000000000001, 9.8, 9.81, 9.82, 9.83, 9.84, 9.85, 9.86, 9.870000000000001, 9.88, 9.89, 9.9, 9.91, 9.92, 9.93, 9.94, 9.950000000000001, 9.96, 9.97, 9.98, 9.99]\n"
     ]
    }
   ],
   "source": [
    "epsilon = 0.01\n",
    "\n",
    "# Generate the list\n",
    "t_values = [n * epsilon for n in range(1000)]  # n from 0 to 10\n",
    "\n",
    "# Print the list\n",
    "print(t_values)"
   ]
  },
  {
   "cell_type": "code",
   "execution_count": null,
   "id": "f7396c08-32f6-4aa6-b9ee-8d0425084500",
   "metadata": {
    "tags": []
   },
   "outputs": [],
   "source": [
    "import numpy as np\n",
    "\n",
    "# Define the array\n",
    "HarisValues = np.array([2.7519358 ,   0.41624943,   2.79543182,   3.84921499,\n",
    "         0.74670779,  -7.81051288, -16.79251124,  -0.51882103,\n",
    "        -5.390813  ,   5.2979593 ,  -1.76365563,  -4.78641887,\n",
    "        -2.45406367,  -6.30387675,  -0.9618518 ,  -7.09448322,\n",
    "        -0.45380897,   6.78149987,   7.38616185,  -2.17965311,\n",
    "         1.63506737,   1.03820119,  -1.83018052,  -0.52835292,\n",
    "         0.27204692,  -0.3426634 ,   0.96383668,  -5.51702052,\n",
    "         6.19226972,   1.87867114,  -6.02884936,  -7.08667364,\n",
    "         5.50696775,   6.10402453,   1.97832002,  -7.58859828,\n",
    "        -1.26185032,   4.55454309,  -5.85872908, -13.40038058,\n",
    "         6.95721107,  -3.34995787,   2.06501554,   3.16572229,\n",
    "        -1.27467033,  -4.62880104,  -1.8803268 ,   9.18591384,\n",
    "        -0.12728346,  -0.82935571,  -3.08683812,   4.57205323,\n",
    "       -11.44883953,   0.48252571,   0.98384835,   8.2525904 ,\n",
    "         1.41861074,   1.52043259,   0.43910956,   7.66433674,\n",
    "        -1.19115077, -11.11509545,  -0.34367206,   3.23686973,\n",
    "         1.00379714,  -0.84510676,   6.84419505,  -7.82807091,\n",
    "        -1.38715068,   1.95992706,  -8.48111993,  -0.64826909,\n",
    "        -3.61321789,  -0.80453573,   2.55400722, -14.31322595,\n",
    "         2.99843437,   1.10494864,   1.67134671,  -0.17851239,\n",
    "         0.43027945,   0.78353258,   1.07465429,   7.55333388,\n",
    "         1.23676179,  -1.93643069,   0.20794682,   0.0440818 ,\n",
    "         0.32490197,  -1.86047937,  -6.56273417,  15.8845959 ,\n",
    "         4.77431884,   6.58523596,  -1.24921886,   3.09277721,\n",
    "       -10.15639818,   1.70947861,  -2.33944857,   8.63860784,\n",
    "        -3.42740884,   3.93773018,   0.88984165,  14.03557701,\n",
    "        -9.6218142 ,  -3.8930613 ,   1.40841123,   7.47510753,\n",
    "         1.02692901,  -0.2358847 ,  -2.32486828,  11.86569115,\n",
    "        -1.57037866,  -8.38237363,  -3.66092973,  -1.70042946,\n",
    "         5.64149984,   2.40701461,  -0.9009113 ,  -0.57680906,\n",
    "        -0.77824476,   2.1307935 ,   2.70660007,  -1.9624971 ,\n",
    "         4.96886808,   1.57099274,  -6.3941257 ,   3.28777682])\n",
    "\n",
    "DrBhattacharyasValues = np.array([2.7519358, 0.4162494, 2.7954318, 3.8492150, 0.7467078, -7.8105129,\n",
    "    -16.7925112, -0.5188210, -5.3908130, 5.2979593, -1.7636556, -4.7864189,\n",
    "    -2.4540637, -6.3038768, -0.9618518, -7.0944832, -0.4538090, 6.7814999,\n",
    "    7.3861618, -2.1796531, 1.6350674, 1.0382012, -1.8301805, -0.5283529,\n",
    "    0.2720469, -0.3426634, 0.9638367, -5.5170205, 6.1922697, 1.8786711,\n",
    "    -6.0288494, -7.0866736, 5.5069678, 6.1040245, 1.9783200, -7.5885983,\n",
    "    -1.2618503, 4.5545431, -5.8587291, -13.4003806, 6.9572111, -3.3499579,\n",
    "    2.0650155, 3.1657223, -1.2746703, -4.6288010, -1.8803268, 9.1859138,\n",
    "    -0.1272835, -0.8293557, -3.0868381, 4.5720532, -11.4488395, 0.4825257,\n",
    "    0.9838483, 8.2525904, 1.4186107, 1.5204326, 0.4391096, 7.6643367,\n",
    "    -1.1911508, -11.1150954, -0.3436721, 3.2368697, 1.0037971, -0.8451068,\n",
    "    6.8441950, -7.8280709, -1.3871507, 1.9599271, -8.4811199, -0.6482691,\n",
    "    -3.6132179, -0.8045357, 2.5540072, -14.3132259, 2.9984344, 1.1049486,\n",
    "    1.6713467, -0.1785124, 0.4302794, 0.7835326, 1.0746543, 7.5533339,\n",
    "    1.2367618, -1.9364307, 0.2079468, 0.0440818, 0.3249020, -1.8604794,\n",
    "    -6.5627342, 15.8845959, 4.7743188, 6.5852360, -1.2492189, 3.0927772,\n",
    "    -10.1563982, 1.7094786, -2.3394486, 8.6386078, -3.4274088, 3.9377302,\n",
    "    0.8898416, 14.0355770, -9.6218142, -3.8930613, 1.4084112, 7.4751075,\n",
    "    1.0269290, -0.2358847, -2.3248683, 11.8656912, -1.5703787, -8.3823736,\n",
    "    -3.6609297, -1.7004295, 5.6414998, 2.4070146, -0.9009113, -0.5768091,\n",
    "    -0.7782448, 2.1307935, 2.7066001, -1.9624971, 4.9688681, 1.5709927,\n",
    "    -6.3941257, 3.2877768\n",
    "])\n",
    "\n",
    "\n",
    "\n",
    "\n",
    "\n",
    "plt.hist(DrBhattacharyasValues, bins=50, density=False, histtype='step')\n",
    "\n",
    "\n"
   ]
  },
  {
   "cell_type": "code",
   "execution_count": 72,
   "id": "a22cf429-96ed-4136-8a17-701507004ca7",
   "metadata": {},
   "outputs": [
    {
     "data": {
      "text/plain": [
       "(array([ 1.,  0.,  0.,  1.,  0.,  1.,  0.,  0.,  2.,  0.,  2.,  0.,  2.,\n",
       "         2.,  3.,  2.,  3.,  2.,  2.,  1.,  5.,  1.,  9.,  7., 10.,  7.,\n",
       "         9., 11., 10.,  5.,  5.,  2.,  3.,  2.,  2.,  3.,  4.,  3.,  2.,\n",
       "         1.,  0.,  0.,  0.,  1.,  0.,  0.,  0.,  1.,  0.,  1.]),\n",
       " array([-16.79251124, -16.1389691 , -15.48542695, -14.83188481,\n",
       "        -14.17834267, -13.52480053, -12.87125838, -12.21771624,\n",
       "        -11.5641741 , -10.91063195, -10.25708981,  -9.60354767,\n",
       "         -8.95000553,  -8.29646338,  -7.64292124,  -6.9893791 ,\n",
       "         -6.33583696,  -5.68229481,  -5.02875267,  -4.37521053,\n",
       "         -3.72166838,  -3.06812624,  -2.4145841 ,  -1.76104196,\n",
       "         -1.10749981,  -0.45395767,   0.19958447,   0.85312662,\n",
       "          1.50666876,   2.1602109 ,   2.81375304,   3.46729519,\n",
       "          4.12083733,   4.77437947,   5.42792162,   6.08146376,\n",
       "          6.7350059 ,   7.38854804,   8.04209019,   8.69563233,\n",
       "          9.34917447,  10.00271661,  10.65625876,  11.3098009 ,\n",
       "         11.96334304,  12.61688519,  13.27042733,  13.92396947,\n",
       "         14.57751161,  15.23105376,  15.8845959 ]),\n",
       " [<matplotlib.patches.Polygon at 0x7f872f376e50>])"
      ]
     },
     "execution_count": 72,
     "metadata": {},
     "output_type": "execute_result"
    },
    {
     "data": {
      "image/png": "[encoded data removed]",
      "text/plain": [
       "<Figure size 640x480 with 1 Axes>"
      ]
     },
     "metadata": {},
     "output_type": "display_data"
    }
   ],
   "source": [
    "plt.hist(HarisValues, bins=50, density=False, histtype='step')"
   ]
  },
  {
   "cell_type": "code",
   "execution_count": 73,
   "id": "c0e9f16b-acc7-4cda-a4ab-11d6b58f7c3d",
   "metadata": {},
   "outputs": [
    {
     "data": {
      "text/plain": [
       "array([  2.7519358 ,   0.41624943,   2.79543182,   3.84921499,\n",
       "         0.74670779,  -7.81051288, -16.79251124,  -0.51882103,\n",
       "        -5.390813  ,   5.2979593 ,  -1.76365563,  -4.78641887,\n",
       "        -2.45406367,  -6.30387675,  -0.9618518 ,  -7.09448322,\n",
       "        -0.45380897,   6.78149987,   7.38616185,  -2.17965311,\n",
       "         1.63506737,   1.03820119,  -1.83018052,  -0.52835292,\n",
       "         0.27204692,  -0.3426634 ,   0.96383668,  -5.51702052,\n",
       "         6.19226972,   1.87867114,  -6.02884936,  -7.08667364,\n",
       "         5.50696775,   6.10402453,   1.97832002,  -7.58859828,\n",
       "        -1.26185032,   4.55454309,  -5.85872908, -13.40038058,\n",
       "         6.95721107,  -3.34995787,   2.06501554,   3.16572229,\n",
       "        -1.27467033,  -4.62880104,  -1.8803268 ,   9.18591384,\n",
       "        -0.12728346,  -0.82935571,  -3.08683812,   4.57205323,\n",
       "       -11.44883953,   0.48252571,   0.98384835,   8.2525904 ,\n",
       "         1.41861074,   1.52043259,   0.43910956,   7.66433674,\n",
       "        -1.19115077, -11.11509545,  -0.34367206,   3.23686973,\n",
       "         1.00379714,  -0.84510676,   6.84419505,  -7.82807091,\n",
       "        -1.38715068,   1.95992706,  -8.48111993,  -0.64826909,\n",
       "        -3.61321789,  -0.80453573,   2.55400722, -14.31322595,\n",
       "         2.99843437,   1.10494864,   1.67134671,  -0.17851239,\n",
       "         0.43027945,   0.78353258,   1.07465429,   7.55333388,\n",
       "         1.23676179,  -1.93643069,   0.20794682,   0.0440818 ,\n",
       "         0.32490197,  -1.86047937,  -6.56273417,  15.8845959 ,\n",
       "         4.77431884,   6.58523596,  -1.24921886,   3.09277721,\n",
       "       -10.15639818,   1.70947861,  -2.33944857,   8.63860784,\n",
       "        -3.42740884,   3.93773018,   0.88984165,  14.03557701,\n",
       "        -9.6218142 ,  -3.8930613 ,   1.40841123,   7.47510753,\n",
       "         1.02692901,  -0.2358847 ,  -2.32486828,  11.86569115,\n",
       "        -1.57037866,  -8.38237363,  -3.66092973,  -1.70042946,\n",
       "         5.64149984,   2.40701461,  -0.9009113 ,  -0.57680906,\n",
       "        -0.77824476,   2.1307935 ,   2.70660007,  -1.9624971 ,\n",
       "         4.96886808,   1.57099274,  -6.3941257 ,   3.28777682])"
      ]
     },
     "execution_count": 73,
     "metadata": {},
     "output_type": "execute_result"
    }
   ],
   "source": [
    "HarisValues"
   ]
  },
  {
   "cell_type": "code",
   "execution_count": 74,
   "id": "1d80c9e1-00a8-4718-91b6-29e573859e65",
   "metadata": {},
   "outputs": [
    {
     "data": {
      "text/plain": [
       "array([  2.7519358,   0.4162494,   2.7954318,   3.849215 ,   0.7467078,\n",
       "        -7.8105129, -16.7925112,  -0.518821 ,  -5.390813 ,   5.2979593,\n",
       "        -1.7636556,  -4.7864189,  -2.4540637,  -6.3038768,  -0.9618518,\n",
       "        -7.0944832,  -0.453809 ,   6.7814999,   7.3861618,  -2.1796531,\n",
       "         1.6350674,   1.0382012,  -1.8301805,  -0.5283529,   0.2720469,\n",
       "        -0.3426634,   0.9638367,  -5.5170205,   6.1922697,   1.8786711,\n",
       "        -6.0288494,  -7.0866736,   5.5069678,   6.1040245,   1.97832  ,\n",
       "        -7.5885983,  -1.2618503,   4.5545431,  -5.8587291, -13.4003806,\n",
       "         6.9572111,  -3.3499579,   2.0650155,   3.1657223,  -1.2746703,\n",
       "        -4.628801 ,  -1.8803268,   9.1859138,  -0.1272835,  -0.8293557,\n",
       "        -3.0868381,   4.5720532, -11.4488395,   0.4825257,   0.9838483,\n",
       "         8.2525904,   1.4186107,   1.5204326,   0.4391096,   7.6643367,\n",
       "        -1.1911508, -11.1150954,  -0.3436721,   3.2368697,   1.0037971,\n",
       "        -0.8451068,   6.844195 ,  -7.8280709,  -1.3871507,   1.9599271,\n",
       "        -8.4811199,  -0.6482691,  -3.6132179,  -0.8045357,   2.5540072,\n",
       "       -14.3132259,   2.9984344,   1.1049486,   1.6713467,  -0.1785124,\n",
       "         0.4302794,   0.7835326,   1.0746543,   7.5533339,   1.2367618,\n",
       "        -1.9364307,   0.2079468,   0.0440818,   0.324902 ,  -1.8604794,\n",
       "        -6.5627342,  15.8845959,   4.7743188,   6.585236 ,  -1.2492189,\n",
       "         3.0927772, -10.1563982,   1.7094786,  -2.3394486,   8.6386078,\n",
       "        -3.4274088,   3.9377302,   0.8898416,  14.035577 ,  -9.6218142,\n",
       "        -3.8930613,   1.4084112,   7.4751075,   1.026929 ,  -0.2358847,\n",
       "        -2.3248683,  11.8656912,  -1.5703787,  -8.3823736,  -3.6609297,\n",
       "        -1.7004295,   5.6414998,   2.4070146,  -0.9009113,  -0.5768091,\n",
       "        -0.7782448,   2.1307935,   2.7066001,  -1.9624971,   4.9688681,\n",
       "         1.5709927,  -6.3941257,   3.2877768])"
      ]
     },
     "execution_count": 74,
     "metadata": {},
     "output_type": "execute_result"
    }
   ],
   "source": [
    "DrBhattacharyasValues"
   ]
  },
  {
   "cell_type": "code",
   "execution_count": 75,
   "id": "4f2ab028-f6ff-4c60-bd4d-d4b37003a41c",
   "metadata": {},
   "outputs": [
    {
     "data": {
      "text/plain": [
       "-8.94007021999997"
      ]
     },
     "execution_count": 75,
     "metadata": {},
     "output_type": "execute_result"
    }
   ],
   "source": [
    "np.sum(HarisValues)"
   ]
  },
  {
   "cell_type": "code",
   "execution_count": 76,
   "id": "b03111dd-9144-4233-bde3-2d78a8459442",
   "metadata": {},
   "outputs": [
    {
     "data": {
      "text/plain": [
       "-8.940070899999995"
      ]
     },
     "execution_count": 76,
     "metadata": {},
     "output_type": "execute_result"
    }
   ],
   "source": [
    "np.sum(DrBhattacharyasValues)"
   ]
  },
  {
   "cell_type": "code",
   "execution_count": 78,
   "id": "449f09fa-13b1-4e26-a05e-bdf76aec91d2",
   "metadata": {},
   "outputs": [
    {
     "data": {
      "text/plain": [
       "array([1., 1., 1., 1., 1., 1., 1., 1., 1., 1., 1., 1., 1., 1., 1., 1., 1.,\n",
       "       1., 1., 1., 1., 1., 1., 1., 1., 1., 1., 1., 1., 1., 1., 1., 1., 1.,\n",
       "       1., 1., 1., 1., 1., 1., 1., 1., 1., 1., 1., 1., 1., 1., 1., 1., 1.,\n",
       "       1., 1., 1., 1., 1., 1., 1., 1., 1., 1., 1., 1., 1., 1., 1., 1., 1.,\n",
       "       1., 1., 1., 1., 1., 1., 1., 1., 1., 1., 1., 1., 1., 1., 1., 1., 1.,\n",
       "       1., 1., 1., 1., 1., 1., 1., 1., 1., 1., 1., 1., 1., 1., 1., 1., 1.,\n",
       "       1., 1., 1., 1., 1., 1., 1., 1., 1., 1., 1., 1., 1., 1., 1., 1., 1.,\n",
       "       1., 1., 1., 1., 1., 1., 1., 1., 1.])"
      ]
     },
     "execution_count": 78,
     "metadata": {},
     "output_type": "execute_result"
    }
   ],
   "source": [
    "np.round(HarisValues/DrBhattacharyasValues)"
   ]
  }
 ],
 "metadata": {
  "kernelspec": {
   "display_name": "NERSC Python",
   "language": "python",
   "name": "python3"
  },
  "language_info": {
   "codemirror_mode": {
    "name": "ipython",
    "version": 3
   },
   "file_extension": ".py",
   "mimetype": "text/x-python",
   "name": "python",
   "nbconvert_exporter": "python",
   "pygments_lexer": "ipython3",
   "version": "3.11.7"
  }
 },
 "nbformat": 4,
 "nbformat_minor": 5
}
