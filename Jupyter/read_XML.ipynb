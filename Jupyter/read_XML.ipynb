{
 "cells": [
  {
   "cell_type": "code",
   "execution_count": 17,
   "id": "95135b54-69a5-4196-9584-27d43084fb3c",
   "metadata": {},
   "outputs": [
    {
     "data": {
      "text/plain": [
       "1.13394700996365"
      ]
     },
     "execution_count": 17,
     "metadata": {},
     "output_type": "execute_result"
    }
   ],
   "source": [
    "import xml.etree.ElementTree as ET\n",
    "import numpy as np\n",
    "# Parse the XML file\n",
    "tree = ET.parse(\"/pscratch/sd/h/hari_8/nEDM_project_LANL/output_3pt2pt_flow/out_qtop_ggg_allFLOW_cfg_12000.xml\")  \n",
    "root = tree.getroot()\n",
    "\n",
    "\n",
    "ggg_ts_values = []\n",
    "for elem in root.findall(\".//Weinberg_GGG\"):\n",
    "    re_value = elem.find(\"qtop\").text\n",
    "    ggg_ts_values.append(float(re_value))\n",
    "\n",
    "\n",
    "ggg_ts_chroma = np.array(ggg_ts_values)[3]\n",
    "ggg_ts_chroma"
   ]
  },
  {
   "cell_type": "code",
   "execution_count": 2,
   "id": "92a7e16a-f396-417b-ab5f-e0f6204f67de",
   "metadata": {},
   "outputs": [
    {
     "data": {
      "text/plain": [
       "128"
      ]
     },
     "execution_count": 2,
     "metadata": {},
     "output_type": "execute_result"
    }
   ],
   "source": [
    "len(ggg_ts_chroma)"
   ]
  },
  {
   "cell_type": "code",
   "execution_count": 40,
   "id": "ea6dc5fc-0340-4ef6-9316-7825038596c4",
   "metadata": {},
   "outputs": [
    {
     "data": {
      "text/plain": [
       "array([-1063.73942456,  -922.93905889,   179.54205263,  1346.73535429,\n",
       "        -281.84306119,  -921.39820917,   215.25945562,  1058.71012137,\n",
       "         272.26465877,   528.41802996,  -260.80287197,  1346.93052838,\n",
       "       -1536.64869156, -1567.34657613,   484.96258111,  1422.27383128,\n",
       "         876.88065045,   133.612544  ,  -854.49420256,  -131.78141189,\n",
       "       -1944.19118387,  1093.89391072,  -675.79874656,  2208.1377201 ,\n",
       "        -389.49018877,  1123.01985278,   288.80569058, -3214.14676581,\n",
       "       -2269.84105957,   -54.46254183,   557.55214868,   599.84563555,\n",
       "         810.51235644,  -135.84152557,  -549.9688252 ,  1272.61910299,\n",
       "       -2217.07995657,  -476.56446851,   539.90038015,   132.01403425,\n",
       "         396.33183921,   904.53199094, -2051.18797357,  1299.73804552,\n",
       "          -3.49249054,  -981.34468923,   729.64041642,   177.85720108,\n",
       "        1171.96431089,   727.58548042,   579.05243427,   -55.35923764,\n",
       "        -800.82200052,  -912.14478163,   984.8109578 ,    23.68284614,\n",
       "        -257.88924707,  -722.15730489,   260.62724377, -1273.17734325,\n",
       "        1675.53612702,  2377.52094902,  -326.40373468,  -568.80638672,\n",
       "        -494.37463246, -1813.00498533,  -258.07203433, -2113.32001244,\n",
       "         -78.92098923,   722.91422044,  1513.21414871,  1054.56355866,\n",
       "         -68.94293937, -2781.68607619,   614.79547411, -1461.7761594 ,\n",
       "        -991.7461569 , -1930.30679295,  1515.47406315,   184.32532715,\n",
       "        -279.02949656,   614.72170563,  1670.93987516,   667.44129659,\n",
       "        1395.80846797,   949.32336366,  1000.38463287,   308.10772007,\n",
       "       -1256.4954452 ,  1831.18362136,  -894.84066353,  -388.04046158,\n",
       "        1389.88529067,  -301.79957956,   103.88580088, -1403.16140019,\n",
       "         274.69220972,   359.60311757,   999.84212204,  2661.8094988 ,\n",
       "        1335.47049463,   358.01021255, -2127.16604911, -1401.90947202,\n",
       "         700.8472572 ,   143.26949705,  1056.37179472, -1633.78991716,\n",
       "        1437.91409451,  -573.26387409,  -806.79969969,   467.83897184,\n",
       "        -181.70261284, -1006.50057924,  1534.86601421,  -832.03144985,\n",
       "        1265.9937653 , -1294.71060135,  -727.5372439 ,    37.12048403,\n",
       "        -902.12723573,  -890.68559224,  1182.99456163,  -189.33019106,\n",
       "       -2348.40681009,   614.18584978,  1264.28774827,  3009.93671838])"
      ]
     },
     "execution_count": 40,
     "metadata": {},
     "output_type": "execute_result"
    }
   ],
   "source": [
    "import h5py\n",
    "import numpy as np\n",
    "import matplotlib.pyplot as plt\n",
    "from tqdm import tqdm\n",
    "\n",
    "\n",
    "def give_O(observable, ft):\n",
    "    observable_cfg = []\n",
    "    file_path = f\"/pscratch/sd/h/hari_8/nEDM_project_LANL/save_GF_h5/save_ggg_Q_tslice_WF_0t_lanl_cfg__12000_.h5\"\n",
    "    h5_file = h5py.File(file_path, \"r\")\n",
    "    path_to_observable_cfgb = f\"/lanl_cfg_12000/{observable}/flow_time_{ft}_fm\"\n",
    "    observable_cfgb = h5_file[path_to_observable_cfgb][()] \n",
    "    observable_cfg.append(observable_cfgb)\n",
    "    return observable_cfg\n",
    "\n",
    "ggg_ts_qlua = give_O(\"gggt\", 0)[0].real.astype(np.float64)\n",
    "ggg_ts_qlua"
   ]
  },
  {
   "cell_type": "code",
   "execution_count": 45,
   "id": "8cc25d26-dcc0-40a4-b11d-cf8e0f1d567e",
   "metadata": {},
   "outputs": [
    {
     "data": {
      "text/plain": [
       "3190.150348379768"
      ]
     },
     "execution_count": 45,
     "metadata": {},
     "output_type": "execute_result"
    }
   ],
   "source": [
    "np.sum(ggg_ts_chroma)"
   ]
  }
 ],
 "metadata": {
  "kernelspec": {
   "display_name": "NERSC Python",
   "language": "python",
   "name": "python3"
  },
  "language_info": {
   "codemirror_mode": {
    "name": "ipython",
    "version": 3
   },
   "file_extension": ".py",
   "mimetype": "text/x-python",
   "name": "python",
   "nbconvert_exporter": "python",
   "pygments_lexer": "ipython3",
   "version": "3.11.7"
  }
 },
 "nbformat": 4,
 "nbformat_minor": 5
}
