{
 "cells": [
  {
   "cell_type": "code",
   "execution_count": 16,
   "id": "529fb2d8-1b67-4e6f-a7e0-5c1caed87d28",
   "metadata": {
    "tags": []
   },
   "outputs": [
    {
     "name": "stdout",
     "output_type": "stream",
     "text": [
      "cl21_48_128_b6p3_m0p2390_m0p2050_cfg_12000\n",
      "\n",
      "flow_time    symmetricQ\n",
      "0           16.99252667578045\n",
      "0.1           12.866302989414981\n",
      "0.41           -5.153206895583433\n",
      "0.92           13.619185384346254\n",
      "1.64           -23.838270012634908\n",
      "2.56           14.818722117327916\n",
      "3.68           2.6749604141722867\n",
      "5.01           -35.380412745428195\n",
      "6.54           28.105034185149904\n",
      "8.28           10.093269283100849\n",
      "10.22           -28.93173015062092\n"
     ]
    }
   ],
   "source": [
    "import h5py\n",
    "import numpy as np\n",
    "import matplotlib.pyplot as plt\n",
    "from tqdm import tqdm\n",
    "\n",
    "\n",
    "flow_time = [0, 0.10, 0.41, 0.92, 1.64, 2.56, 3.68, 5.01, 6.54, 8.28, 10.22]\n",
    "\n",
    "\n",
    "def list_observ(observable, ft):\n",
    "    file_path = f\"/pscratch/sd/h/hari_8/nEDM_project_LANL/save_GF_h5/save_EQ_GradientFlow_cl21_48_128_b6p3_m0p2390_m0p2050_cfg_12000_tutorial_flow_action_tauft__a_units_.h5\"\n",
    "    h5_file = h5py.File(file_path, \"r\")\n",
    "    path_to_observable_cfgb = f\"/cfg_12000/{observable}/flow_time_{ft}_a\"\n",
    "    observable_cfgb = h5_file[path_to_observable_cfgb][()]\n",
    "    print(ft, \"         \",observable_cfgb)\n",
    "    return \n",
    "\n",
    "print(\"cl21_48_128_b6p3_m0p2390_m0p2050_cfg_12000\\n\")\n",
    "print(\"flow_time    symmetricQ\")\n",
    "for ft in flow_time:\n",
    "    list_observ(\"symmetricQ\", ft)"
   ]
  },
  {
   "cell_type": "code",
   "execution_count": null,
   "id": "18136798-681e-45b9-8033-bc3427a002cf",
   "metadata": {},
   "outputs": [],
   "source": []
  }
 ],
 "metadata": {
  "kernelspec": {
   "display_name": "NERSC Python",
   "language": "python",
   "name": "python3"
  },
  "language_info": {
   "codemirror_mode": {
    "name": "ipython",
    "version": 3
   },
   "file_extension": ".py",
   "mimetype": "text/x-python",
   "name": "python",
   "nbconvert_exporter": "python",
   "pygments_lexer": "ipython3",
   "version": "3.11.7"
  }
 },
 "nbformat": 4,
 "nbformat_minor": 5
}
